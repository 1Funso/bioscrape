{
 "cells": [
  {
   "cell_type": "markdown",
   "metadata": {},
   "source": [
    "0. Create a Model with division, death, and volume"
   ]
  },
  {
   "cell_type": "code",
   "execution_count": null,
   "metadata": {},
   "outputs": [],
   "source": [
    "%matplotlib inline\n",
    "from bioscrape.lineage import LineageModel\n",
    "from bioscrape.lineage import LineageVolumeSplitter\n",
    "import numpy as np\n",
    "import pylab as plt\n",
    "\n",
    "k = 1\n",
    "d = .1\n",
    "g = .2\n",
    "rxn1 = ([\"A\"], [\"A\", \"X\"], \"massaction\", {\"k\":k})\n",
    "rxn2 = ([\"A\"], [\"B\"], \"massaction\", {\"k\":d})\n",
    "rxn3 = ([\"B\"], [\"A\"], \"massaction\", {\"k\":d})\n",
    "rxns = [rxn1, rxn2, rxn3]\n",
    "LM1 = LineageModel(reactions = rxns, initialize_model = True, initial_condition_dict = {\"X\": 0, \"A\":1})\n",
    "LM1.create_volume_event(\"linear volume\", {\"growth_rate\":g}, \"massaction\", {\"k\":.1, \"species\":\"X\"})\n",
    "vsplit = LineageVolumeSplitter(LM1, options = {\"A\":\"duplicate\", \"B\":\"duplicate\"})\n",
    "LM1.create_division_rule(\"deltaV\", {\"threshold\":5}, vsplit)\n",
    "LM1.create_division_rule(\"time\", {\"threshold\":50}, vsplit)\n",
    "LM1.create_death_event(\"death\", {}, \"hillpositive\", {\"s1\":\"X\", \"K\":25, \"n\":2, \"k\":.25})\n",
    "LM1.py_initialize()"
   ]
  },
  {
   "cell_type": "markdown",
   "metadata": {},
   "source": [
    "1. Testing SimulateCellLineage in the LineageSSASimulator"
   ]
  },
  {
   "cell_type": "code",
   "execution_count": null,
   "metadata": {},
   "outputs": [],
   "source": [
    "from bioscrape.lineage import py_SimulateCellLineage\n",
    "\n",
    "max_time = 200\n",
    "timepoints = np.linspace(0,max_time,max_time*100)\n",
    "\n",
    "lineage = py_SimulateCellLineage(timepoints, Model = LM1)\n",
    "\n",
    "sch_tree = [[]]\n",
    "sch_tree_length = 1\n",
    "for i in range(lineage.py_size()):\n",
    "\tsch = lineage.py_get_schnitz(i)\n",
    "\tif sch.py_get_parent() == None:\n",
    "\t\tsch_tree[0].append(sch)\n",
    "\telse:\n",
    "\t\tfor j in range(len(sch_tree)):\n",
    "\t\t\tparent = sch.py_get_parent()\n",
    "\t\t\tif parent in sch_tree[j]:\n",
    "\t\t\t\tif len(sch_tree)<= j+1:\n",
    "\t\t\t\t\tsch_tree.append([])\n",
    "\t\t\t\t\tsch_tree_length += 1\n",
    "\t\t\t\tsch_tree[j+1].append(sch)\n",
    "\n",
    "color_list = []\n",
    "for i in range(sch_tree_length):\n",
    "\tcolor_list.append((i/sch_tree_length, 0, 1.-i/sch_tree_length))\n",
    "\n",
    "X_ind = LM1.get_species_index('X')\n",
    "plt.figure()\n",
    "plt.subplot(211)\n",
    "count = 0\n",
    "for i in range(sch_tree_length):\n",
    "    for sch in sch_tree[i]:\n",
    "        count+=1\n",
    "        plt.plot(sch.py_get_time(), sch.py_get_data()[:,X_ind], color = color_list[i])\n",
    "\n",
    "\n",
    "plt.subplot(212)\n",
    "for i in range(sch_tree_length):\n",
    "\tfor sch in sch_tree[i]:\n",
    "\t\tplt.plot(sch.py_get_time(), sch.py_get_volume(), color = color_list[i])\n",
    "\n",
    "print(\"Total Cells Simulated\", count)\n",
    "\n",
    "plt.show()\n"
   ]
  },
  {
   "cell_type": "markdown",
   "metadata": {},
   "source": [
    "Testing the LineageSSASimulator PropogateCells Function"
   ]
  },
  {
   "cell_type": "code",
   "execution_count": null,
   "metadata": {},
   "outputs": [],
   "source": [
    "%matplotlib inline\n",
    "\n",
    "from bioscrape.lineage import py_PropagateCells\n",
    "\n",
    "#max_time = 50\n",
    "timepoints = np.linspace(0,max_time,max_time*100)\n",
    "\n",
    "final_states = py_PropagateCells(timepoints, Model = LM1)\n",
    "X_ind = LM1.get_species_index('X')\n",
    "x_counts = []\n",
    "volumes=[]\n",
    "for fs in final_states:\n",
    "    time, vol, counts = fs.__getstate__()\n",
    "    x_counts.append(counts[X_ind])\n",
    "    volumes.append(vol)\n",
    "plt.figure()\n",
    "plt.subplot(211)\n",
    "plt.hist(x_counts, label = \"Count X\")\n",
    "plt.legend()\n",
    "plt.subplot(212)\n",
    "plt.hist(volumes, label = \"Volume\")\n",
    "plt.legend()\n",
    "\n",
    "plt.show()"
   ]
  },
  {
   "cell_type": "markdown",
   "metadata": {},
   "source": [
    "3. Testing Single Cell Lineage Simulation"
   ]
  },
  {
   "cell_type": "code",
   "execution_count": null,
   "metadata": {},
   "outputs": [],
   "source": [
    "from bioscrape.lineage import py_SingleCellLineage\n",
    "\n",
    "#max_time = 250\n",
    "timepoints = np.linspace(0,max_time,max_time*100)\n",
    "final_lineage = py_SingleCellLineage(timepoints, Model = LM1)\n",
    "\n",
    "lineage_size = len(final_lineage)\n",
    "X_ind = LM1.get_species_index('X')\n",
    "x_counts = []\n",
    "volumes=[]\n",
    "plt.figure()\n",
    "color_list = [(i/lineage_size, 0, 1-i/lineage_size) for i in range(lineage_size)]\n",
    "for i in range(lineage_size):\n",
    "    f = final_lineage[i]\n",
    "    tp = f.py_get_timepoints()\n",
    "    r = f.py_get_result()\n",
    "    v = f.py_get_volume()\n",
    "    x = r[:, X_ind]\n",
    "    \n",
    "    plt.subplot(121)\n",
    "    plt.plot(tp, x, color = color_list[i])\n",
    "    plt.subplot(122)\n",
    "    plt.plot(tp, v, \":\", color = color_list[i])\n",
    "\n",
    "plt.show()"
   ]
  },
  {
   "cell_type": "code",
   "execution_count": null,
   "metadata": {},
   "outputs": [],
   "source": []
  },
  {
   "cell_type": "code",
   "execution_count": null,
   "metadata": {},
   "outputs": [],
   "source": []
  }
 ],
 "metadata": {
  "kernelspec": {
   "display_name": "Python 3",
   "language": "python",
   "name": "python3"
  },
  "language_info": {
   "codemirror_mode": {
    "name": "ipython",
    "version": 3
   },
   "file_extension": ".py",
   "mimetype": "text/x-python",
   "name": "python",
   "nbconvert_exporter": "python",
   "pygments_lexer": "ipython3",
   "version": "3.6.6"
  }
 },
 "nbformat": 4,
 "nbformat_minor": 2
}
