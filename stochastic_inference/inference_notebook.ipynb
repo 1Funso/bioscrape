{
 "cells": [
  {
   "cell_type": "code",
   "execution_count": 1,
   "metadata": {},
   "outputs": [
    {
     "data": {
      "text/plain": [
       "<libsbml.SBMLDocument; proxy of <Swig Object of type 'SBMLDocument *' at 0x000001CA45F10930> >"
      ]
     },
     "execution_count": 1,
     "metadata": {},
     "output_type": "execute_result"
    }
   ],
   "source": [
    "%matplotlib inline\n",
    "# Import  required module\n",
    "from StochasticInference import *\n",
    "\n",
    "# Create an empty StochasticInference object to initiate the inference procedure\n",
    "spid = StochasticInference()\n",
    "\n",
    "# Import a model that you want to use for inference\n",
    "spid.import_sbml('sbml_example.xml')\n",
    "\n"
   ]
  },
  {
   "cell_type": "code",
   "execution_count": null,
   "metadata": {},
   "outputs": [],
   "source": [
    "\n",
    "#########################################  Part - I  ######################################### \n",
    "\n",
    "# Handling the data\n",
    "\n",
    "# This is how you can define properties while importing data from a csv file (to filter out the required data)\n",
    "# Usage - \n",
    "# properties_dict = {'Property1': 'Value1','Property2': 'Value2'}\n",
    "# data = import_timeseries('data.csv',time_column = 1, value_column = 2, properties = properties_dict)\n",
    "\n",
    "# Example - \n",
    "data = import_timeseries('test_data.csv', time_column = 2, value_column = 4, properties = {3 : 51})\n",
    "\n",
    "# Plot experimental data, give a True value to the optional argument plot_show (uncomment to run)\n",
    "# import_timeseries('test_data.csv', time_column = 2, value_column = 4, plot_show = True)\n",
    "\n",
    "import numpy as np\n",
    "import matplotlib.pyplot as plt  \n",
    "\n",
    "t_exp = data.get_keys()\n",
    "timepoints = np.linspace(t_exp[0],t_exp[-1],len(t_exp))\n",
    "bs_data, m = spid.simulate(timepoints, type = 'deterministic')\n",
    "simtime = timepoints\n",
    "simdata = bs_data[:,m.get_species_index('c1')]\n",
    "# simtime, simdata = model.simulate_roadrunner(timepoints)\n",
    "\n",
    "# Create artificial data for model to test the code\n",
    "# SKIP this part you already have your data, store it inside exp_data\n",
    "\n",
    "lines = []\n",
    "exp_value = []\n",
    "for t,d in zip(simtime, simdata):\n",
    "    v = d + np.random.normal(0,0.5)\n",
    "    exp_value.append(v)\n",
    "    lines.append([t,v])\n",
    "import csv \n",
    "with open('test_data_noisy.csv','w') as f:\n",
    "    writer = csv.writer(f)\n",
    "    writer.writerows(lines)\n",
    "    f.close()\n",
    "\n",
    "plt.plot(simtime, exp_value, label = 'Data')\n",
    "plt.plot(simtime, simdata, label = 'Model simulation')\n",
    "plt.legend()\n",
    "plt.title('Simulated model and artificial (noisy) data')\n",
    "plt.show()\n",
    "\n"
   ]
  },
  {
   "cell_type": "code",
   "execution_count": null,
   "metadata": {},
   "outputs": [],
   "source": [
    "\n",
    "#########################################  Part - II  ######################################### \n",
    "\n",
    "# Identifiability analysis (NotImplemented yet)\n"
   ]
  },
  {
   "cell_type": "code",
   "execution_count": null,
   "metadata": {},
   "outputs": [],
   "source": [
    "\n",
    "#########################################  Part - III  ######################################### \n",
    "\n",
    "# Parameter identification using MCMC\n",
    "\n",
    "# Specify the priors for the parameters\n",
    "spid.prior = {'kc' : [1e-3, 1e3],'k1' : [1e-2, 1e5]}\n",
    "# Initial guesses for the parameters to estimate\n",
    "spid.params_to_estimate = {'kc':6, 'k1':1}\n",
    "fit_model, id_params = spid.run_mcmc(spid.params_to_estimate, spid.prior, timepoints, data,\n",
    "                                    nwalkers = 8, nsteps = 50, nsamples = 10, measurements = ['c1'], plot_show = False)\n",
    "# fit_model is with identified parameters' \"best\" value substituted\n"
   ]
  },
  {
   "cell_type": "code",
   "execution_count": null,
   "metadata": {},
   "outputs": [],
   "source": [
    "\n",
    "\n",
    "#########################################  Part - IV  ######################################### \n",
    "\n",
    "# Post identification analysis (do your own with the results or use this)\n",
    "\n",
    "res_orig, m_orig = spid.simulate(timepoints, type = 'stochastic')\n",
    "res, m = spid.simulate(timepoints, type = 'stochastic')\n",
    "\n",
    "plt.figure()\n",
    "simtime = timepoints\n",
    "simdata_orig = res_orig[:,m_orig.get_species_index('c1')]\n",
    "simdata = res[:,m.get_species_index('c1')]\n",
    "plt.plot(simtime, exp_value, label ='exp')\n",
    "plt.plot(simtime, simdata_orig, label = 'original model')\n",
    "plt.plot(simtime, simdata, label = 'identified model')\n",
    "plt.legend()\n",
    "plt.title('Identified model with data')\n",
    "plt.show()\n",
    "\n",
    "\n",
    "# Write the fitted model to SBML\n",
    "fit_model.export_sbml('sbml_fit.xml')"
   ]
  }
 ],
 "metadata": {
  "kernelspec": {
   "display_name": "Python 3",
   "language": "python",
   "name": "python3"
  },
  "language_info": {
   "codemirror_mode": {
    "name": "ipython",
    "version": 3
   },
   "file_extension": ".py",
   "mimetype": "text/x-python",
   "name": "python",
   "nbconvert_exporter": "python",
   "pygments_lexer": "ipython3",
   "version": "3.6.5"
  }
 },
 "nbformat": 4,
 "nbformat_minor": 2
}
