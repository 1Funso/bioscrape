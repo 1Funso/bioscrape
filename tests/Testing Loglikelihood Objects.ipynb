{
 "cells": [
  {
   "cell_type": "code",
   "execution_count": 9,
   "metadata": {},
   "outputs": [
    {
     "name": "stderr",
     "output_type": "stream",
     "text": [
      "C:\\Users\\wp_ix\\Anaconda3\\lib\\site-packages\\ipykernel_launcher.py:10: UserWarning: The follow species are uninitialized and their value has defaulted to 0: X, \n",
      "  # Remove the CWD from sys.path while we load stuff.\n"
     ]
    }
   ],
   "source": [
    "import bioscrape as bs\n",
    "from bioscrape.types import Model\n",
    "from bioscrape.simulator import py_simulate_model\n",
    "import numpy as np\n",
    "import pylab as plt\n",
    "#Create a Model\n",
    "species = [\"X\"]\n",
    "reactions = [([\"X\"], [], \"massaction\", {\"k\":\"d1\"}), ([], [\"X\"], \"massaction\", {\"k\":\"k1\"})]\n",
    "params = [(\"k1\", 5.0), (\"d1\", .1)]\n",
    "M = Model(species = species, reactions = reactions, parameters = params)\n",
    "M.py_initialize()"
   ]
  },
  {
   "cell_type": "code",
   "execution_count": 10,
   "metadata": {},
   "outputs": [
    {
     "data": {
      "image/png": "[encoded data removed]",
      "text/plain": [
       "<Figure size 432x288 with 1 Axes>"
      ]
     },
     "metadata": {
      "needs_background": "light"
     },
     "output_type": "display_data"
    }
   ],
   "source": [
    "timepoints = np.arange(0, 50, 10.0)\n",
    "\n",
    "R = []\n",
    "N = 1\n",
    "#Generate Trajectories\n",
    "Data = []\n",
    "for n in range(N):\n",
    "    r = py_simulate_model(timepoints, Model = M, stochastic = True)\n",
    "    R.append(r)\n",
    "    Data.append(r[\"X\"].to_numpy())\n",
    "plt.figure()\n",
    "Data = np.array(Data)\n",
    "for n in range(N):\n",
    "    plt.plot(R[n]['time'], Data[n], 'o')\n"
   ]
  },
  {
   "cell_type": "code",
   "execution_count": 11,
   "metadata": {
    "scrolled": true
   },
   "outputs": [
    {
     "name": "stdout",
     "output_type": "stream",
     "text": [
      "<class 'bioscrape.inference.StochasticTrajectoriesLikelihood'>\n",
      "<bioscrape.types.Model object at 0x0000023CFDD78238>\n",
      "('m', <bioscrape.types.Model object at 0x0000023CFDD78238>)\n"
     ]
    }
   ],
   "source": [
    "#Create LogLikelihoodFunction\n",
    "from bioscrape.inference import StochasticTrajectoriesLikelihood as fLL\n",
    "from bioscrape.inference import StochasticTrajectories\n",
    "print(fLL)\n",
    "print(M)\n",
    "LL = fLL(model = M, init_state = {\"X\":0})\n",
    "Data.shape\n",
    "DataObject = StochasticTrajectories(timepoints, Data, [\"X\"], N)\n",
    "LL.set_data(DataObject)"
   ]
  },
  {
   "cell_type": "code",
   "execution_count": 12,
   "metadata": {},
   "outputs": [
    {
     "name": "stdout",
     "output_type": "stream",
     "text": [
      "max min L 38239.0 1.0\n"
     ]
    },
    {
     "data": {
      "text/plain": [
       "<matplotlib.colorbar.Colorbar at 0x23c8002b4a8>"
      ]
     },
     "execution_count": 12,
     "metadata": {},
     "output_type": "execute_result"
    },
    {
     "data": {
      "image/png": "[encoded data removed]",
      "text/plain": [
       "<Figure size 432x288 with 2 Axes>"
      ]
     },
     "metadata": {
      "needs_background": "light"
     },
     "output_type": "display_data"
    }
   ],
   "source": [
    "d_list = np.logspace(-8, 2, base = 2, num = 10)\n",
    "k_list = np.logspace(0, 10, base = 2, num = 10)\n",
    "HM = np.zeros((len(d_list), len(k_list)))\n",
    "\n",
    "LL.set_likelihood_options(N_simulations = 1, norm_order = 1)\n",
    "\n",
    "for di in range(len(d_list)):\n",
    "    for ki in range(len(k_list)):\n",
    "        LL.set_init_params({\"d1\":d_list[di], \"k1\":k_list[ki]})\n",
    "        v = LL.py_log_likelihood()\n",
    "        HM[di, ki] = -v\n",
    "\n",
    "print(\"max min L\", np.max(HM), np.min(HM))\n",
    "plt.figure()\n",
    "plt.title(\"Log Likelihood of a Non-Identifiable Manifold\")\n",
    "plt.xlabel(\"log k\")\n",
    "plt.xticks(range(20), [round(np.log(k), 1) for k in k_list])\n",
    "plt.ylabel(\"log d\")\n",
    "plt.yticks(range(20), [round(np.log(d), 1) for d in d_list])\n",
    "cb = plt.pcolor(np.log(HM))\n",
    "plt.colorbar(cb)"
   ]
  },
  {
   "cell_type": "code",
   "execution_count": null,
   "metadata": {},
   "outputs": [],
   "source": [
    "\n",
    "\n"
   ]
  },
  {
   "cell_type": "code",
   "execution_count": null,
   "metadata": {},
   "outputs": [],
   "source": []
  }
 ],
 "metadata": {
  "kernelspec": {
   "display_name": "Python 3",
   "language": "python",
   "name": "python3"
  },
  "language_info": {
   "codemirror_mode": {
    "name": "ipython",
    "version": 3
   },
   "file_extension": ".py",
   "mimetype": "text/x-python",
   "name": "python",
   "nbconvert_exporter": "python",
   "pygments_lexer": "ipython3",
   "version": "3.7.3"
  }
 },
 "nbformat": 4,
 "nbformat_minor": 2
}
