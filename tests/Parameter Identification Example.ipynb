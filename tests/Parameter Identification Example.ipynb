{
 "cells": [
  {
   "cell_type": "markdown",
   "metadata": {},
   "source": [
    "# Parameter identification interface\n",
    "### User-interface to perform parameter identification of bioscrape/SBML models\n",
    "\n",
    "* Simple functions to import models/data \n",
    "* Use the fast deterministic and stochastic simulators available within bioscrape\n",
    "* (Optionally) Specify paramter priors, desired likelihood/cost functions \n",
    "* Create your own likelihood functions interface\n",
    "\n",
    "## Loglikelihood Functions\n",
    "Bioscrape comes with a number of built in log-likelihood functions for deterministic or stochastic parameter inference. These functions are detailed in the following notebook. First, a simple model is made to test the functions:\n",
    "\n",
    "$\\emptyset \\xrightarrow[]{k_1} X \\; \\; \\; \\; X \\xrightarrow[]{d_1} \\emptyset$\n",
    "\n",
    "A set of N trajectories is then generated from this model, from either the same or different initial conditions, across the same or different time-windows. Gaussian noise is then added to all the samples."
   ]
  },
  {
   "cell_type": "code",
   "execution_count": 1,
   "metadata": {},
   "outputs": [],
   "source": [
    "%matplotlib inline\n",
    "import bioscrape as bs\n",
    "from bioscrape.types import Model\n",
    "from bioscrape.simulator import py_simulate_model\n",
    "\n",
    "import numpy as np\n",
    "import pylab as plt\n",
    "\n",
    "# Import bioscrape XML / bioscrape model object M / SBML file\n",
    "# M  = bs.types.read_model_from_sbml(filename)\n",
    "# M = Model('models/pid_model.xml')\n",
    "\n",
    "# Or...Create a Model using the bioscrape API\n",
    "species = ['X']\n",
    "reactions = [(['X'], [], 'massaction', {'k':'d1'}), ([], ['X'], 'massaction', {'k':'k1'})]\n",
    "k1 = 10.0\n",
    "d1 = .2\n",
    "params = [('k1', k1), ('d1', d1)]\n",
    "initial_condition = {'X':0}\n",
    "M = Model(species = species, reactions = reactions, parameters = params, \n",
    "          initial_condition_dict = initial_condition)\n",
    "\n",
    "M_original = Model(species = species, reactions = reactions, parameters = params, \n",
    "          initial_condition_dict = initial_condition)\n",
    "# Import data from CSV\n",
    "# data = import_timeseries('test_data.csv', time_column = 2, value_column = 4, properties = {3 : 51})\n",
    "\n",
    "M.py_initialize()\n",
    "\n",
    "N = 10 #Number of trajectories\n",
    "nT = 50 #number of timepoints\n",
    "noise_std = 5 #Standar deviation of the guassian noise added onto the measurements\n",
    "\n",
    "MultipleTimepoints = True #Different timepoints for each trajectory?\n",
    "timepoint_list = []\n",
    "timepoints = np.linspace(np.random.randint(0, 10), np.random.randint(10, 100), nT)\n",
    "#Generate Trajectories\n",
    "R = [] #Results as Pandas Dataframes\n",
    "data = [] #Results will become a numpy array\n",
    "MultipleInitialConditions = True #Different initial conditions for each trajectory?\n",
    "\n",
    "X0_list = [] #multiple initial conditions will be saved for inference\n",
    "for n in range(N):\n",
    "    if MultipleInitialConditions:\n",
    "        initial_condition = {'X': np.random.randint(0, 100)}\n",
    "        X0_list.append(initial_condition)\n",
    "        \n",
    "    if MultipleTimepoints:\n",
    "        timepoints = np.linspace(np.random.randint(0, 10, 1), np.random.randint(10, 100, 1), num = 50).flatten()\n",
    "        timepoint_list.append(timepoints)\n",
    "    \n",
    "    M.set_species(initial_condition)\n",
    "    r = py_simulate_model(timepoints, Model = M, stochastic = True)\n",
    "    R.append(r)\n",
    "    noisy_data = r['X'].to_numpy() + np.random.normal(loc = 0, scale = noise_std, size = nT)\n",
    "    data.append(noisy_data)\n"
   ]
  },
  {
   "cell_type": "code",
   "execution_count": 2,
   "metadata": {},
   "outputs": [
    {
     "data": {
      "text/plain": [
       "array([ 0.2, 10. ])"
      ]
     },
     "execution_count": 2,
     "metadata": {},
     "output_type": "execute_result"
    }
   ],
   "source": [
    "\n",
    "M_original.get_parameter_values()"
   ]
  },
  {
   "cell_type": "markdown",
   "metadata": {},
   "source": [
    "### To run the MCMC algorithm to identify parameters from the data, the following code can be used."
   ]
  },
  {
   "cell_type": "code",
   "execution_count": null,
   "metadata": {},
   "outputs": [],
   "source": [
    "# Run parameter identification procedure using Python emcee -\n",
    "from bioscrape.pid_interfaces import *\n",
    "from bioscrape.emcee_interface import *\n",
    "\n",
    "pid = initialize_mcmc()\n",
    "pid.exp_data = np.array(data)\n",
    "pid.M = M\n",
    "pid.prior = {'k1' : ['uniform', 1e-3, 1e3],'d1' : ['gaussian', 1e-2, 1e5, 0.1]}\n",
    "pid.params_to_estimate = {'k1':10, 'd1':0.2}\n",
    "pid.type = 'deterministic'\n",
    "pid.timepoints = timepoint_list\n",
    "pid.initial_conditions = X0_list\n",
    "pid.nsamples = 50\n",
    "pid.nsteps = 200\n",
    "pid.nwalkers = 40\n",
    "fitted_model, params = pid.run_mcmc(plot_show = True)"
   ]
  },
  {
   "cell_type": "code",
   "execution_count": 4,
   "metadata": {},
   "outputs": [
    {
     "data": {
      "text/plain": [
       "array([2.71313415e-03, 3.04343803e+00])"
      ]
     },
     "execution_count": 4,
     "metadata": {},
     "output_type": "execute_result"
    }
   ],
   "source": [
    "fitted_model.get_parameter_values()"
   ]
  },
  {
   "cell_type": "code",
   "execution_count": 37,
   "metadata": {},
   "outputs": [
    {
     "data": {
      "text/plain": [
       "array([ 0.2, 10. ])"
      ]
     },
     "execution_count": 37,
     "metadata": {},
     "output_type": "execute_result"
    }
   ],
   "source": [
    "M_original.get_parameter_values()"
   ]
  },
  {
   "cell_type": "code",
   "execution_count": 2,
   "metadata": {},
   "outputs": [],
   "source": [
    "from bioscrape.inference import Prior"
   ]
  },
  {
   "cell_type": "code",
   "execution_count": 3,
   "metadata": {},
   "outputs": [
    {
     "ename": "NameError",
     "evalue": "name 'STLL' is not defined",
     "output_type": "error",
     "traceback": [
      "\u001b[1;31m---------------------------------------------------------------------------\u001b[0m",
      "\u001b[1;31mNameError\u001b[0m                                 Traceback (most recent call last)",
      "\u001b[1;32m<ipython-input-3-dc1d44ef482f>\u001b[0m in \u001b[0;36m<module>\u001b[1;34m()\u001b[0m\n\u001b[1;32m----> 1\u001b[1;33m \u001b[0mp1\u001b[0m \u001b[1;33m=\u001b[0m \u001b[0mPrior\u001b[0m\u001b[1;33m(\u001b[0m\u001b[0mSTLL\u001b[0m\u001b[1;33m)\u001b[0m\u001b[1;33m\u001b[0m\u001b[0m\n\u001b[0m",
      "\u001b[1;31mNameError\u001b[0m: name 'STLL' is not defined"
     ]
    }
   ],
   "source": [
    "p1 = Prior(STLL)"
   ]
  },
  {
   "cell_type": "code",
   "execution_count": null,
   "metadata": {},
   "outputs": [],
   "source": [
    "p1.py_log_likelihood()"
   ]
  }
 ],
 "metadata": {
  "kernelspec": {
   "display_name": "Python 3",
   "language": "python",
   "name": "python3"
  },
  "language_info": {
   "codemirror_mode": {
    "name": "ipython",
    "version": 3
   },
   "file_extension": ".py",
   "mimetype": "text/x-python",
   "name": "python",
   "nbconvert_exporter": "python",
   "pygments_lexer": "ipython3",
   "version": "3.6.5"
  }
 },
 "nbformat": 4,
 "nbformat_minor": 2
}
