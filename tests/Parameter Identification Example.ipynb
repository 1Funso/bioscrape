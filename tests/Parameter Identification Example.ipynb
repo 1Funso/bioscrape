{
 "cells": [
  {
   "cell_type": "markdown",
   "metadata": {},
   "source": [
    "# Parameter identification interface\n",
    "### User-interface to perform parameter identification of bioscrape/SBML models\n",
    "\n",
    "* Simple functions to import models/data \n",
    "* Use the fast deterministic and stochastic simulators available within bioscrape\n",
    "* (Optionally) Specify paramter priors, desired likelihood/cost functions \n",
    "* Create your own likelihood functions interface\n",
    "\n",
    "## Loglikelihood Functions\n",
    "Bioscrape comes with a number of built in log-likelihood functions for deterministic or stochastic parameter inference. These functions are detailed in the following notebook. First, a simple model is made to test the functions:\n",
    "\n",
    "$\\emptyset \\xrightarrow[]{k_1} X \\; \\; \\; \\; X \\xrightarrow[]{d_1} \\emptyset$\n",
    "\n",
    "A set of N trajectories is then generated from this model, from either the same or different initial conditions, across the same or different time-windows. Gaussian noise is then added to all the samples."
   ]
  },
  {
   "cell_type": "code",
   "execution_count": 32,
   "metadata": {},
   "outputs": [],
   "source": [
    "%matplotlib inline\n",
    "import bioscrape as bs\n",
    "from bioscrape.types import Model\n",
    "from bioscrape.simulator import py_simulate_model\n",
    "\n",
    "import numpy as np\n",
    "import pylab as plt\n",
    "\n",
    "# Import bioscrape XML / bioscrape model object M / SBML file\n",
    "# M  = bs.types.read_model_from_sbml(filename)\n",
    "# M = Model('models/pid_model.xml')\n",
    "\n",
    "# Or...Create a Model using the bioscrape API\n",
    "species = ['X']\n",
    "reactions = [(['X'], [], 'massaction', {'k':'d1'}), ([], ['X'], 'massaction', {'k':'k1'})]\n",
    "k1 = 10.0\n",
    "d1 = .2\n",
    "params = [('k1', k1), ('d1', d1)]\n",
    "initial_condition = {'X':0}\n",
    "M = Model(species = species, reactions = reactions, parameters = params, \n",
    "          initial_condition_dict = initial_condition)\n",
    "\n",
    "M_original = Model(species = species, reactions = reactions, parameters = params, \n",
    "          initial_condition_dict = initial_condition)\n",
    "# Import data from CSV\n",
    "# data = import_timeseries('test_data.csv', time_column = 2, value_column = 4, properties = {3 : 51})\n",
    "\n",
    "M.py_initialize()\n",
    "\n",
    "N = 10 #Number of trajectories\n",
    "nT = 50 #number of timepoints\n",
    "noise_std = 5 #Standar deviation of the guassian noise added onto the measurements\n",
    "\n",
    "MultipleTimepoints = True #Different timepoints for each trajectory?\n",
    "timepoint_list = []\n",
    "timepoints = np.linspace(np.random.randint(0, 10), np.random.randint(10, 100), nT)\n",
    "#Generate Trajectories\n",
    "R = [] #Results as Pandas Dataframes\n",
    "data = [] #Results will become a numpy array\n",
    "MultipleInitialConditions = True #Different initial conditions for each trajectory?\n",
    "\n",
    "X0_list = [] #multiple initial conditions will be saved for inference\n",
    "for n in range(N):\n",
    "    if MultipleInitialConditions:\n",
    "        initial_condition = {'X': np.random.randint(0, 100)}\n",
    "        X0_list.append(initial_condition)\n",
    "        \n",
    "    if MultipleTimepoints:\n",
    "        timepoints = np.linspace(np.random.randint(0, 10, 1), np.random.randint(10, 100, 1), num = 50).flatten()\n",
    "        timepoint_list.append(timepoints)\n",
    "    \n",
    "    M.set_species(initial_condition)\n",
    "    r = py_simulate_model(timepoints, Model = M, stochastic = True)\n",
    "    R.append(r)\n",
    "    noisy_data = r['X'].to_numpy() + np.random.normal(loc = 0, scale = noise_std, size = nT)\n",
    "    data.append(noisy_data)\n"
   ]
  },
  {
   "cell_type": "code",
   "execution_count": 34,
   "metadata": {},
   "outputs": [
    {
     "data": {
      "text/plain": [
       "array([ 0.2, 10. ])"
      ]
     },
     "execution_count": 34,
     "metadata": {},
     "output_type": "execute_result"
    }
   ],
   "source": [
    "\n",
    "M_original.get_parameter_values()"
   ]
  },
  {
   "cell_type": "markdown",
   "metadata": {},
   "source": [
    "### To run the MCMC algorithm to identify parameters from the data, the following code can be used."
   ]
  },
  {
   "cell_type": "code",
   "execution_count": 35,
   "metadata": {},
   "outputs": [
    {
     "name": "stdout",
     "output_type": "stream",
     "text": [
      "Sample log-like: 3751.81829875293\n",
      "Sample log-like: 3751.654105280847\n",
      "Sample log-like: 3752.1989684664595\n",
      "Sample log-like: 3752.349383779626\n",
      "Sample log-like: 3751.4714794310185\n",
      "Sample log-like: 3751.8352057209663\n",
      "Sample log-like: 3751.720409453172\n",
      "Sample log-like: 3750.403081122635\n",
      "Sample log-like: 3751.51415733545\n",
      "Sample log-like: 3751.5865500422947\n",
      "Sample log-like: 3751.5069283758003\n",
      "Sample log-like: 3751.7355062989304\n",
      "Sample log-like: 3751.3442256316603\n",
      "Sample log-like: 3751.8616075007767\n",
      "Sample log-like: 3752.256218079821\n",
      "Sample log-like: 3751.087957459368\n",
      "Sample log-like: 3750.7008355993735\n",
      "Sample log-like: 3751.9623900871907\n",
      "Sample log-like: 3750.086749595974\n",
      "Sample log-like: 3752.360654333117\n",
      "Sample log-like: 3751.239397222862\n",
      "Sample log-like: 3750.9369013367154\n",
      "Sample log-like: 3751.645753843996\n",
      "Sample log-like: 3751.946469519527\n",
      "Sample log-like: 3751.3174718162963\n",
      "Sample log-like: 3751.246651259132\n",
      "Sample log-like: 3751.741129938143\n",
      "Sample log-like: 3751.307057419555\n",
      "Sample log-like: 3752.303699309148\n",
      "Sample log-like: 3751.8439322055897\n",
      "Sample log-like: 3752.160666171354\n",
      "Sample log-like: 3752.0363958051184\n",
      "Sample log-like: 3751.7151055397726\n",
      "Sample log-like: 3751.792939419328\n",
      "Sample log-like: 3751.454216778068\n",
      "Sample log-like: 3751.33682475761\n",
      "Sample log-like: 3750.7513839678013\n",
      "Sample log-like: 3751.7407286255016\n",
      "Sample log-like: 3751.4707580080258\n",
      "Sample log-like: 3750.0719798713667\n"
     ]
    },
    {
     "name": "stderr",
     "output_type": "stream",
     "text": [
      "c:\\users\\apand\\appdata\\local\\programs\\python\\python36\\lib\\site-packages\\emcee\\ensemble.py:335: RuntimeWarning: invalid value encountered in subtract\n",
      "  lnpdiff = (self.dim - 1.) * np.log(zz) + newlnprob - lnprob0\n",
      "c:\\users\\apand\\appdata\\local\\programs\\python\\python36\\lib\\site-packages\\emcee\\ensemble.py:336: RuntimeWarning: invalid value encountered in greater\n",
      "  accept = (lnpdiff > np.log(self._random.rand(len(lnpdiff))))\n"
     ]
    },
    {
     "name": "stdout",
     "output_type": "stream",
     "text": [
      "0.0 percent complete\n",
      "0.5 percent complete\n",
      "1.0 percent complete\n",
      "1.5 percent complete\n",
      "2.0 percent complete\n",
      "2.5 percent complete\n",
      "3.0 percent complete\n",
      "3.5 percent complete\n",
      "4.0 percent complete\n",
      "4.5 percent complete\n",
      "5.0 percent complete\n",
      "5.5 percent complete\n",
      "6.0 percent complete\n",
      "6.5 percent complete\n",
      "7.0 percent complete\n",
      "7.5 percent complete\n",
      "8.0 percent complete\n",
      "8.5 percent complete\n",
      "9.0 percent complete\n",
      "9.5 percent complete\n",
      "10.0 percent complete\n",
      "10.5 percent complete\n",
      "11.0 percent complete\n",
      "11.5 percent complete\n",
      "12.0 percent complete\n",
      "12.5 percent complete\n",
      "13.0 percent complete\n",
      "13.5 percent complete\n",
      "14.0 percent complete\n",
      "14.5 percent complete\n",
      "15.0 percent complete\n",
      "15.5 percent complete\n",
      "16.0 percent complete\n",
      "16.5 percent complete\n",
      "17.0 percent complete\n",
      "17.5 percent complete\n",
      "18.0 percent complete\n",
      "18.5 percent complete\n",
      "19.0 percent complete\n",
      "19.5 percent complete\n",
      "20.0 percent complete\n",
      "20.5 percent complete\n",
      "21.0 percent complete\n",
      "21.5 percent complete\n",
      "22.0 percent complete\n",
      "22.5 percent complete\n",
      "23.0 percent complete\n",
      "23.5 percent complete\n",
      "24.0 percent complete\n",
      "24.5 percent complete\n",
      "25.0 percent complete\n",
      "25.5 percent complete\n",
      "26.0 percent complete\n",
      "26.5 percent complete\n",
      "27.0 percent complete\n",
      "27.5 percent complete\n",
      "28.0 percent complete\n",
      "28.5 percent complete\n",
      "29.0 percent complete\n",
      "29.5 percent complete\n",
      "30.0 percent complete\n",
      "30.5 percent complete\n",
      "31.0 percent complete\n",
      "31.5 percent complete\n",
      "32.0 percent complete\n",
      "32.5 percent complete\n",
      "33.0 percent complete\n",
      "33.5 percent complete\n",
      "34.0 percent complete\n",
      "34.5 percent complete\n",
      "35.0 percent complete\n",
      "35.5 percent complete\n",
      "36.0 percent complete\n",
      "36.5 percent complete\n",
      "37.0 percent complete\n",
      "37.5 percent complete\n",
      "38.0 percent complete\n",
      "38.5 percent complete\n",
      "39.0 percent complete\n",
      "39.5 percent complete\n",
      "40.0 percent complete\n",
      "40.5 percent complete\n",
      "41.0 percent complete\n",
      "41.5 percent complete\n",
      "42.0 percent complete\n",
      "42.5 percent complete\n",
      "43.0 percent complete\n",
      "43.5 percent complete\n",
      "44.0 percent complete\n",
      "44.5 percent complete\n",
      "45.0 percent complete\n",
      "45.5 percent complete\n",
      "46.0 percent complete\n",
      "46.5 percent complete\n",
      "47.0 percent complete\n",
      "47.5 percent complete\n",
      "48.0 percent complete\n",
      "48.5 percent complete\n",
      "49.0 percent complete\n",
      "49.5 percent complete\n",
      "50.0 percent complete\n",
      "50.5 percent complete\n",
      "51.0 percent complete\n",
      "51.5 percent complete\n",
      "52.0 percent complete\n",
      "52.5 percent complete\n",
      "53.0 percent complete\n",
      "53.5 percent complete\n",
      "54.0 percent complete\n",
      "54.5 percent complete\n",
      "55.0 percent complete\n",
      "55.5 percent complete\n",
      "56.0 percent complete\n",
      "56.5 percent complete\n",
      "57.0 percent complete\n",
      "57.5 percent complete\n",
      "58.0 percent complete\n",
      "58.5 percent complete\n",
      "59.0 percent complete\n",
      "59.5 percent complete\n",
      "60.0 percent complete\n",
      "60.5 percent complete\n",
      "61.0 percent complete\n",
      "61.5 percent complete\n",
      "62.0 percent complete\n",
      "62.5 percent complete\n",
      "63.0 percent complete\n",
      "63.5 percent complete\n",
      "64.0 percent complete\n",
      "64.5 percent complete\n",
      "65.0 percent complete\n",
      "65.5 percent complete\n",
      "66.0 percent complete\n",
      "66.5 percent complete\n",
      "67.0 percent complete\n",
      "67.5 percent complete\n",
      "68.0 percent complete\n",
      "68.5 percent complete\n",
      "69.0 percent complete\n",
      "69.5 percent complete\n",
      "70.0 percent complete\n",
      "70.5 percent complete\n",
      "71.0 percent complete\n",
      "71.5 percent complete\n",
      "72.0 percent complete\n",
      "72.5 percent complete\n",
      "73.0 percent complete\n",
      "73.5 percent complete\n",
      "74.0 percent complete\n",
      "74.5 percent complete\n",
      "75.0 percent complete\n",
      "75.5 percent complete\n",
      "76.0 percent complete\n",
      "76.5 percent complete\n",
      "77.0 percent complete\n",
      "77.5 percent complete\n",
      "78.0 percent complete\n",
      "78.5 percent complete\n",
      "79.0 percent complete\n",
      "79.5 percent complete\n",
      "80.0 percent complete\n",
      "80.5 percent complete\n",
      "81.0 percent complete\n",
      "81.5 percent complete\n",
      "82.0 percent complete\n",
      "82.5 percent complete\n",
      "83.0 percent complete\n",
      "83.5 percent complete\n",
      "84.0 percent complete\n",
      "84.5 percent complete\n",
      "85.0 percent complete\n",
      "85.5 percent complete\n",
      "86.0 percent complete\n",
      "86.5 percent complete\n",
      "87.0 percent complete\n",
      "87.5 percent complete\n",
      "88.0 percent complete\n",
      "88.5 percent complete\n",
      "89.0 percent complete\n",
      "89.5 percent complete\n",
      "90.0 percent complete\n",
      "90.5 percent complete\n",
      "91.0 percent complete\n",
      "91.5 percent complete\n",
      "92.0 percent complete\n",
      "92.5 percent complete\n",
      "93.0 percent complete\n",
      "93.5 percent complete\n",
      "94.0 percent complete\n",
      "94.5 percent complete\n",
      "95.0 percent complete\n",
      "95.5 percent complete\n",
      "96.0 percent complete\n",
      "96.5 percent complete\n",
      "97.0 percent complete\n",
      "97.5 percent complete\n",
      "98.0 percent complete\n",
      "98.5 percent complete\n",
      "99.0 percent complete\n",
      "99.5 percent complete\n",
      "Successfully completed MCMC parameter identification procedure. Parameter distribution data written to mcmc_results.csv file\n"
     ]
    },
    {
     "data": {
      "image/png": "[encoded data removed]",
      "text/plain": [
       "<Figure size 432x288 with 1 Axes>"
      ]
     },
     "metadata": {},
     "output_type": "display_data"
    },
    {
     "data": {
      "image/png": "[encoded data removed]",
      "text/plain": [
       "<Figure size 432x288 with 1 Axes>"
      ]
     },
     "metadata": {},
     "output_type": "display_data"
    },
    {
     "name": "stdout",
     "output_type": "stream",
     "text": [
      "{'k1': array([9.8850057]), 'd1': array([0.17042365])}\n"
     ]
    },
    {
     "name": "stderr",
     "output_type": "stream",
     "text": [
      "c:\\users\\apand\\appdata\\local\\programs\\python\\python36\\lib\\site-packages\\bioscrape\\emcee_interface.py:202: UserWarning: For stochastic simulation of SBML models using bioscrape, it is highly recommended to NOT use reversible reactions as the SSA algorithm might not work for such cases.\n",
      "  warnings.warn('For stochastic simulation of SBML models using bioscrape, it is highly recommended to NOT use reversible reactions as the SSA algorithm might not work for such cases.')\n"
     ]
    },
    {
     "data": {
      "image/png": "[encoded data removed]",
      "text/plain": [
       "<Figure size 432x288 with 1 Axes>"
      ]
     },
     "metadata": {},
     "output_type": "display_data"
    }
   ],
   "source": [
    "# Run parameter identification procedure using Python emcee -\n",
    "from bioscrape.pid_interfaces import *\n",
    "from bioscrape.emcee_interface import *\n",
    "\n",
    "pid = initialize_mcmc()\n",
    "pid.exp_data = np.array(data)\n",
    "pid.M = M\n",
    "pid.prior = {'k1' : [1e-3, 1e3],'d1' : [1e-2, 1e2]}\n",
    "pid.params_to_estimate = {'k1':10, 'd1':0.2}\n",
    "pid.type = 'deterministic'\n",
    "pid.timepoints = timepoint_list\n",
    "pid.initial_conditions = X0_list\n",
    "pid.nsamples = 50\n",
    "pid.nsteps = 200\n",
    "pid.nwalkers = 40\n",
    "fitted_model, params = pid.run_mcmc(plot_show = True)"
   ]
  },
  {
   "cell_type": "code",
   "execution_count": 36,
   "metadata": {},
   "outputs": [
    {
     "data": {
      "text/plain": [
       "array([0.17042365, 9.8850057 ])"
      ]
     },
     "execution_count": 36,
     "metadata": {},
     "output_type": "execute_result"
    }
   ],
   "source": [
    "fitted_model.get_parameter_values()"
   ]
  },
  {
   "cell_type": "code",
   "execution_count": 37,
   "metadata": {},
   "outputs": [
    {
     "data": {
      "text/plain": [
       "array([ 0.2, 10. ])"
      ]
     },
     "execution_count": 37,
     "metadata": {},
     "output_type": "execute_result"
    }
   ],
   "source": [
    "M_original.get_parameter_values()"
   ]
  },
  {
   "cell_type": "code",
   "execution_count": null,
   "metadata": {},
   "outputs": [],
   "source": []
  }
 ],
 "metadata": {
  "kernelspec": {
   "display_name": "Python 3",
   "language": "python",
   "name": "python3"
  },
  "language_info": {
   "codemirror_mode": {
    "name": "ipython",
    "version": 3
   },
   "file_extension": ".py",
   "mimetype": "text/x-python",
   "name": "python",
   "nbconvert_exporter": "python",
   "pygments_lexer": "ipython3",
   "version": "3.6.5"
  }
 },
 "nbformat": 4,
 "nbformat_minor": 2
}
