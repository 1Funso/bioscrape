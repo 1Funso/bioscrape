{
 "cells": [
  {
   "cell_type": "markdown",
   "metadata": {},
   "source": [
    "# Parameter identification interface\n",
    "### User-interface to perform parameter identification of bioscrape/SBML models\n",
    "\n",
    "* Simple functions to import models/data \n",
    "* Use the fast deterministic and stochastic simulators available within bioscrape\n",
    "* (Optionally) Specify paramter priors, desired likelihood/cost functions \n",
    "* Create your own likelihood functions interface\n",
    "\n",
    "## Loglikelihood Functions\n",
    "Bioscrape comes with a number of built in log-likelihood functions for deterministic or stochastic parameter inference. These functions are detailed in the following notebook. First, a simple model is made to test the functions:\n",
    "\n",
    "$\\emptyset \\xrightarrow[]{k_1} X \\; \\; \\; \\; X \\xrightarrow[]{d_1} \\emptyset$\n",
    "\n",
    "A set of N trajectories is then generated from this model, from either the same or different initial conditions, across the same or different time-windows. Gaussian noise is then added to all the samples."
   ]
  },
  {
   "cell_type": "code",
   "execution_count": 1,
   "metadata": {},
   "outputs": [],
   "source": [
    "%matplotlib inline\n",
    "import bioscrape as bs\n",
    "from bioscrape.types import Model\n",
    "from bioscrape.simulator import py_simulate_model\n",
    "\n",
    "import numpy as np\n",
    "import pylab as plt\n",
    "\n",
    "# Import bioscrape XML / bioscrape model object M / SBML file\n",
    "# M  = bs.types.read_model_from_sbml(filename)\n",
    "# M = Model('models/pid_model.xml')\n",
    "\n",
    "# Or...Create a Model using the bioscrape API\n",
    "species = ['X']\n",
    "reactions = [(['X'], [], 'massaction', {'k':'d1'}), ([], ['X'], 'massaction', {'k':'k1'})]\n",
    "k1 = 10.0\n",
    "d1 = .2\n",
    "params = [('k1', k1), ('d1', d1)]\n",
    "initial_condition = {'X':0}\n",
    "M = Model(species = species, reactions = reactions, parameters = params, \n",
    "          initial_condition_dict = initial_condition)\n",
    "\n",
    "\n",
    "# Import data from CSV\n",
    "# data = import_timeseries('test_data.csv', time_column = 2, value_column = 4, properties = {3 : 51})\n",
    "\n",
    "M.py_initialize()\n",
    "\n",
    "N = 10 #Number of trajectories\n",
    "nT = 50 #number of timepoints\n",
    "noise_std = 5 #Standar deviation of the guassian noise added onto the measurements\n",
    "\n",
    "MultipleTimepoints = True #Different timepoints for each trajectory?\n",
    "timepoint_list = []\n",
    "timepoints = np.linspace(np.random.randint(0, 10), np.random.randint(10, 100), nT)\n",
    "#Generate Trajectories\n",
    "R = [] #Results as Pandas Dataframes\n",
    "data = [] #Results will become a numpy array\n",
    "MultipleInitialConditions = True #Different initial conditions for each trajectory?\n",
    "\n",
    "X0_list = [] #multiple initial conditions will be saved for inference\n",
    "for n in range(N):\n",
    "    if MultipleInitialConditions:\n",
    "        initial_condition = {'X': np.random.randint(0, 100)}\n",
    "        X0_list.append(initial_condition)\n",
    "        \n",
    "    if MultipleTimepoints:\n",
    "        timepoints = np.linspace(np.random.randint(0, 10, 1), np.random.randint(10, 100, 1), num = 50).flatten()\n",
    "        timepoint_list.append(timepoints)\n",
    "    \n",
    "    M.set_species(initial_condition)\n",
    "    r = py_simulate_model(timepoints, Model = M, stochastic = True)\n",
    "    R.append(r)\n",
    "    noisy_data = r['X'].to_numpy() + np.random.normal(loc = 0, scale = noise_std, size = nT)\n",
    "    data.append(noisy_data)\n"
   ]
  },
  {
   "cell_type": "code",
   "execution_count": 2,
   "metadata": {},
   "outputs": [
    {
     "data": {
      "text/plain": [
       "{'d1': 0, 'k1': 1}"
      ]
     },
     "execution_count": 2,
     "metadata": {},
     "output_type": "execute_result"
    }
   ],
   "source": [
    "M.get_params2index()"
   ]
  },
  {
   "cell_type": "markdown",
   "metadata": {},
   "source": [
    "### To run the MCMC algorithm to identify parameters from the data, the following code can be used."
   ]
  },
  {
   "cell_type": "code",
   "execution_count": null,
   "metadata": {},
   "outputs": [],
   "source": [
    "# Run parameter identification procedure using Python emcee -\n",
    "from bioscrape.pid_interfaces import *\n",
    "from bioscrape.emcee_interface import *\n",
    "\n",
    "pid = initialize_mcmc()\n",
    "pid.exp_data = np.array(data)\n",
    "pid.M = M\n",
    "pid.prior = {'k1' : [1e-3, 1e3],'d1' : [1e-2, 1e5]}\n",
    "pid.params_to_estimate = {'k1':10, 'd1':0.2}\n",
    "pid.type = 'stochastic'\n",
    "pid.timepoints = timepoint_list\n",
    "pid.initial_conditions = X0_list\n",
    "pid.nsamples = 5\n",
    "pid.nsteps = 2\n",
    "pid.nwalkers = 8\n",
    "fitted_model, params = pid.run_mcmc(plot_show = True)"
   ]
  },
  {
   "cell_type": "code",
   "execution_count": 4,
   "metadata": {},
   "outputs": [
    {
     "ename": "NameError",
     "evalue": "name 'fitted_model' is not defined",
     "output_type": "error",
     "traceback": [
      "\u001b[1;31m---------------------------------------------------------------------------\u001b[0m",
      "\u001b[1;31mNameError\u001b[0m                                 Traceback (most recent call last)",
      "\u001b[1;32m<ipython-input-4-b9b75c28d198>\u001b[0m in \u001b[0;36m<module>\u001b[1;34m()\u001b[0m\n\u001b[1;32m----> 1\u001b[1;33m \u001b[0mfitted_model\u001b[0m\u001b[1;33m\u001b[0m\u001b[0m\n\u001b[0m",
      "\u001b[1;31mNameError\u001b[0m: name 'fitted_model' is not defined"
     ]
    }
   ],
   "source": [
    "fitted_model"
   ]
  },
  {
   "cell_type": "markdown",
   "metadata": {},
   "source": [
    "## Data Objects and Loglikelihood Objects for Trajectories\n",
    "Different kinds of data must be stored in specific kinds of data objects. In turn, each Log-likelihood object is designed to accept a single kind of data object.\n",
    "\n",
    "DeterministicLikelihood takes a BulkData Data Object. This likelihood sums up the L-norm between N experimental bulk trajectories and a single deterministic ODE simulation for each experimental trajectory.\n",
    "\n",
    "\n",
    "\n",
    "StochasticTrajectoriesLikelihood takes a StochasticTrajectories Data object. This likelihood sums up the pair-wise L-norm between N experimental stochastic trajectories and N_simulations SSA (non-volume) simulations per experimental trajectory.\n",
    "\n",
    "### StochasticTrajectories Constructor\n",
    "*  Timepoints: when the data is sampled. Simulations will return results along the same timepoints.\n",
    " *   If each data sample has unique timepoints, timepoints may be passed in as a 2D array of size N x T.\n",
    " *    If all data is collected along the same range and number of timepoints, a single vector of T timepoints can be used\n",
    "*  Data: an N x T x M array. N: number of samples. T: number of timepoints. M: number of species measured\n",
    "* measured_species: list of M species names corresponding to model species and measurements.\n",
    "* N: Number of samples.\n",
    "\n",
    "### StochasticTrajectoriesLikelihood Constructor\n",
    "* model: A Bioscrape Model\n",
    "* data: StochasticTrajectories Data Object. If not passed in, can be added via .set_data(StochastiTrajectories) method.\n",
    "#### Optional:\n",
    " * init_state: an initial state dictionary or a list of N (#samples) initial state dictionaries. Defaults to Model's initial state\n",
    " * N_simulations: Number of simulations per sample. Defaults to 1.\n",
    " * norm_order: What L-norm to use. Defaults to 1.\n",
    " * ModelCSimInterface. Generated from Model otherwise.\n",
    " * Simulator: How to simulate the model. Defaults to SSASimulator or DelaySSASimulator otherwise.\n",
    " \n",
    " "
   ]
  },
  {
   "cell_type": "code",
   "execution_count": null,
   "metadata": {
    "scrolled": true
   },
   "outputs": [],
   "source": [
    "#Create LogLikelihoodFunction\n",
    "def get_likelihood_function(self)\n",
    "    from bioscrape.inference import DeterministicLikelihood as DLL\n",
    "    from bioscrape.inference import BulkData\n",
    "    from bioscrape.inference import StochasticTrajectoriesLikelihood as STLL\n",
    "    from bioscrape.inference import StochasticTrajectories\n",
    "\n",
    "\n",
    "    # Create a Data Objects\n",
    "    if MultipleTimepoints:\n",
    "        DataStoch = StochasticTrajectories(np.array(timepoint_list), Data, [\"X\"], N)\n",
    "        DataDet = BulkData(np.array(timepoint_list), Data, [\"X\"], N)\n",
    "    else:\n",
    "        DataStoch = StochasticTrajectories(timepoints, Data, [\"X\"], N)\n",
    "        DataDet = BulkData(timepoints, Data, [\"X\"], N)\n",
    "\n",
    "    #Ceate Likelihood objects:\n",
    "    N_simulations = 3 #Number of simulations per sample to compare to\n",
    "    norm_order = 1 #(integer) Which norm to use: 1-Norm, 2-norm, etc.\n",
    "\n",
    "    #If there are multiple initial conditions in a data-set, should correspond to multiple initial conditions for inference.\n",
    "    #Note len(X0_list) must be equal to the number of trajectories N\n",
    "    if MultipleInitialConditions:    \n",
    "        LL_stoch = STLL(model = M, init_state = X0_list, data = DataStoch, N_simulations = N_simulations, norm_order = norm_order)\n",
    "        LL_det = DLL(model = M, init_state = X0_list, data = DataDet, norm_order = norm_order)\n",
    "\n",
    "\n",
    "    #Multiple samples with a single initial only require a single initial condition.\n",
    "    else:\n",
    "        LL_stoch = STLL(model = M, init_state = initial_condition, data = DataStoch, norm_order = norm_order, N_simulations = N_simulations)\n",
    "        LL_det = DLL(model = M, init_state = initial_condition, data = DataDet, norm_order = norm_order)\n",
    "\n",
    "    print(\"LL_stoch.N_simulations\", LL_stoch.py_get_N_simulations(), \"LL_stoch.norm_order\", LL_stoch.py_get_norm_order(), \"LL_det.norm_order\", LL_det.py_get_norm_order())\n"
   ]
  },
  {
   "cell_type": "code",
   "execution_count": null,
   "metadata": {},
   "outputs": [],
   "source": [
    "npoints = 15\n",
    "d_list = np.logspace(-12, 12, base = 2, num = npoints)\n",
    "k_list = np.logspace(-12, 12, base = 2, num = npoints)\n",
    "HM_stoch = np.zeros((len(d_list), len(k_list)))\n",
    "HM_det = np.zeros((len(d_list), len(k_list)))\n",
    "\n",
    "\n",
    "for di in range(len(d_list)):\n",
    "    print(\"di=\", di, end = \"...ki =\")\n",
    "    for ki in range(len(k_list)):\n",
    "        print(ki, end = \" \")\n",
    "        LL_stoch.set_init_params({\"d1\":d_list[di], \"k1\":k_list[ki]})\n",
    "        LL_det.set_init_params({\"d1\":d_list[di], \"k1\":k_list[ki]})\n",
    "        \n",
    "        vs = LL_stoch.py_log_likelihood()\n",
    "        vd = LL_det.py_log_likelihood()\n",
    "        \n",
    "        HM_stoch[di, ki] = -vs\n",
    "        HM_det[di, ki] = -vd\n",
    "\n",
    "plt.figure(figsize = (18, 8))\n",
    "plt.subplot(121)\n",
    "plt.title(\"Stochastic Log Likelihood of a Non-Identifiable Manifold\\n k =\"+str(k1)+\" d=\"+str(d1))\n",
    "plt.xlabel(\"log k\")\n",
    "plt.xticks(range(npoints), [round(np.log(k), 1) for k in k_list])\n",
    "plt.ylabel(\"log d\")\n",
    "plt.yticks(range(npoints), [round(np.log(d), 1) for d in d_list])\n",
    "cb = plt.pcolor(np.log(HM_stoch))\n",
    "_ = plt.colorbar(cb)\n",
    "\n",
    "plt.subplot(122)\n",
    "plt.title(\"Deterministic Log Likelihood of a Non-Identifiable Manifold\\n k =\"+str(k1)+\" d=\"+str(d1))\n",
    "plt.xlabel(\"log k\")\n",
    "plt.xticks(range(npoints), [round(np.log(k), 1) for k in k_list])\n",
    "plt.ylabel(\"log d\")\n",
    "plt.yticks(range(npoints), [round(np.log(d), 1) for d in d_list])\n",
    "cb = plt.pcolor(np.log(HM_det))\n",
    "_ = plt.colorbar(cb)"
   ]
  },
  {
   "cell_type": "code",
   "execution_count": null,
   "metadata": {},
   "outputs": [],
   "source": []
  },
  {
   "cell_type": "code",
   "execution_count": null,
   "metadata": {},
   "outputs": [],
   "source": []
  },
  {
   "cell_type": "code",
   "execution_count": null,
   "metadata": {},
   "outputs": [],
   "source": []
  },
  {
   "cell_type": "code",
   "execution_count": null,
   "metadata": {},
   "outputs": [],
   "source": []
  }
 ],
 "metadata": {
  "kernelspec": {
   "display_name": "Python 3",
   "language": "python",
   "name": "python3"
  },
  "language_info": {
   "codemirror_mode": {
    "name": "ipython",
    "version": 3
   },
   "file_extension": ".py",
   "mimetype": "text/x-python",
   "name": "python",
   "nbconvert_exporter": "python",
   "pygments_lexer": "ipython3",
   "version": "3.6.5"
  }
 },
 "nbformat": 4,
 "nbformat_minor": 2
}
