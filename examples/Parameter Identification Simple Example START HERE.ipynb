{
 "cells": [
  {
   "cell_type": "markdown",
   "metadata": {},
   "source": [
    "# Parameter identification example\n",
    "\n",
    "Here is a simple toy model that we use to demonstrate the working of the inference package\n",
    "\n",
    "$\\emptyset \\xrightarrow[]{k_1} X \\; \\; \\; \\; X \\xrightarrow[]{d_1} \\emptyset$\n",
    "\n",
    "### Run the MCMC algorithm to identify parameters from the experimental data "
   ]
  },
  {
   "cell_type": "code",
   "execution_count": null,
   "metadata": {},
   "outputs": [
    {
     "name": "stderr",
     "output_type": "stream",
     "text": [
      "c:\\users\\apand\\appdata\\local\\programs\\python\\python36\\lib\\site-packages\\emcee\\ensemble.py:335: RuntimeWarning: invalid value encountered in subtract\n",
      "  lnpdiff = (self.dim - 1.) * np.log(zz) + newlnprob - lnprob0\n",
      "c:\\users\\apand\\appdata\\local\\programs\\python\\python36\\lib\\site-packages\\emcee\\ensemble.py:336: RuntimeWarning: invalid value encountered in greater\n",
      "  accept = (lnpdiff > np.log(self._random.rand(len(lnpdiff))))\n"
     ]
    },
    {
     "name": "stdout",
     "output_type": "stream",
     "text": [
      "Progress: |██████████████████████████████████----------------| 69.5% Complete\r"
     ]
    }
   ],
   "source": [
    "%matplotlib inline\n",
    "import bioscrape as bs\n",
    "from bioscrape.types import Model\n",
    "from bioscrape.simulator import py_simulate_model\n",
    "from bioscrape.pid_interfaces import *\n",
    "from bioscrape.emcee_interface import *\n",
    "import numpy as np\n",
    "import pylab as plt\n",
    "import pandas as pd\n",
    "\n",
    "pid = initialize_mcmc()\n",
    "# Import bioscrape XML / bioscrape model object M / SBML file\n",
    "# M  = bs.types.read_model_from_sbml(filename)\n",
    "pid.M = Model('models/toy_model.xml')\n",
    "\n",
    "\n",
    "# Import data from CSV\n",
    "# Import a CSV file for each experiment run\n",
    "pid.exp_data = pd.read_csv('test_data.csv', delimiter = '\\t', names = ['X','time'], skiprows = 1)\n",
    "# data_list.append(list(data.get('X')))\n",
    "# pid.exp_data = np.array(data_list)\n",
    "pid.measurements = ['X']\n",
    "pid.time_column = ['time']\n",
    "pid.prior = {'k1' : ['gaussian', 10, 100, 1e-7],'d1' : ['gaussian', 0.2, 10, 1e-8]}\n",
    "pid.params_to_estimate = ['k1', 'd1']\n",
    "pid.nwalkers = 200\n",
    "pid.init_seed = 0.15\n",
    "pid.type = 'deterministic'\n",
    "\n",
    "\n",
    "fitted_model, params = pid.run_mcmc(plot_show = True)"
   ]
  },
  {
   "cell_type": "markdown",
   "metadata": {},
   "source": [
    "### Plot the results "
   ]
  },
  {
   "cell_type": "code",
   "execution_count": 5,
   "metadata": {},
   "outputs": [
    {
     "data": {
      "text/plain": [
       "<matplotlib.legend.Legend at 0x24d715be320>"
      ]
     },
     "execution_count": 5,
     "metadata": {},
     "output_type": "execute_result"
    },
    {
     "data": {
      "image/png": "[encoded data removed]",
      "text/plain": [
       "<Figure size 432x288 with 1 Axes>"
      ]
     },
     "metadata": {},
     "output_type": "display_data"
    }
   ],
   "source": [
    "timepoints = pid.timepoints\n",
    "M_original = Model('models/toy_model.xml')\n",
    "sim_x = py_simulate_model(timepoints, Model = M_original, stochastic = False)\n",
    "sim_x_inf = py_simulate_model(timepoints, Model = fitted_model, stochastic = False)\n",
    "plt.plot(timepoints, sim_x['X'], 'r--', label = 'Original model')\n",
    "plt.plot(timepoints, pid.exp_data.get('X'), label = 'Experimental data')\n",
    "plt.plot(timepoints, sim_x_inf['X'], 'k', label = 'Identified model')\n",
    "\n",
    "plt.legend()"
   ]
  },
  {
   "cell_type": "markdown",
   "metadata": {},
   "source": [
    "## Alll methods above have other advanced options that you can use. Refer to Parameter Identification Tools notebook for more details. There are many other tools available such as for multiple initial conditions and timepoints for each trajectory, options for the estimator etc."
   ]
  },
  {
   "cell_type": "code",
   "execution_count": 6,
   "metadata": {},
   "outputs": [
    {
     "data": {
      "text/plain": [
       "array([0.16879549, 9.68942533])"
      ]
     },
     "execution_count": 6,
     "metadata": {},
     "output_type": "execute_result"
    }
   ],
   "source": [
    "fitted_model.get_parameter_values()"
   ]
  },
  {
   "cell_type": "code",
   "execution_count": null,
   "metadata": {},
   "outputs": [],
   "source": []
  }
 ],
 "metadata": {
  "kernelspec": {
   "display_name": "Python 3",
   "language": "python",
   "name": "python3"
  },
  "language_info": {
   "codemirror_mode": {
    "name": "ipython",
    "version": 3
   },
   "file_extension": ".py",
   "mimetype": "text/x-python",
   "name": "python",
   "nbconvert_exporter": "python",
   "pygments_lexer": "ipython3",
   "version": "3.6.5"
  }
 },
 "nbformat": 4,
 "nbformat_minor": 2
}
