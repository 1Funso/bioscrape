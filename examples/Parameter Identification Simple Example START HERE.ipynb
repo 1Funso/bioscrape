{
 "cells": [
  {
   "cell_type": "markdown",
   "metadata": {},
   "source": [
    "# Parameter identification example\n",
    "\n",
    "Here is a simple toy model that we use to demonstrate the working of the inference package\n",
    "\n",
    "$\\emptyset \\xrightarrow[]{k_1} X \\; \\; \\; \\; X \\xrightarrow[]{d_1} \\emptyset$\n",
    "\n",
    "### Run the MCMC algorithm to identify parameters from the experimental data "
   ]
  },
  {
   "cell_type": "code",
   "execution_count": null,
   "metadata": {},
   "outputs": [
    {
     "name": "stdout",
     "output_type": "stream",
     "text": [
      "Sample log-like: 335.7205643163418\n",
      "Sample log-like: 335.7610157025615\n",
      "Sample log-like: 335.7660865353184\n",
      "Sample log-like: 335.7838260400533\n",
      "Sample log-like: 335.77151395546906\n",
      "Sample log-like: 335.5525884252481\n",
      "Sample log-like: 335.7150543027012\n",
      "Sample log-like: 335.76584466259\n",
      "Sample log-like: 335.7238848847525\n",
      "Sample log-like: 335.7178657333021\n",
      "Sample log-like: 335.7298163598699\n",
      "Sample log-like: 335.7238283875907\n",
      "Sample log-like: 335.4590005797096\n",
      "Sample log-like: 335.7294708550306\n",
      "Sample log-like: 335.7603114497952\n",
      "Sample log-like: 335.7698282527182\n",
      "Sample log-like: 335.74502401355335\n",
      "Sample log-like: 335.7164433637508\n",
      "Sample log-like: 335.4643557803089\n",
      "Sample log-like: 335.78181288078696\n",
      "Sample log-like: 335.72858966092997\n",
      "Sample log-like: 335.7374110421271\n",
      "Sample log-like: 335.68182187275494\n",
      "Sample log-like: 335.71738885593714\n",
      "Sample log-like: 335.71769905653804\n",
      "Sample log-like: 335.7308109491282\n",
      "Sample log-like: 335.7320667088522\n",
      "Sample log-like: 335.7518099617962\n",
      "Sample log-like: 335.7709865312299\n",
      "Sample log-like: 335.69989857050496\n",
      "Sample log-like: 335.80033964211714\n",
      "Sample log-like: 335.7537184608364\n",
      "Sample log-like: 335.7492644256752\n",
      "Sample log-like: 335.7762088957307\n",
      "Sample log-like: 335.666823035505\n",
      "Sample log-like: 335.73645024194803\n",
      "Sample log-like: 335.759555526184\n",
      "Sample log-like: 335.66253153720476\n",
      "Sample log-like: 335.76957730575936\n",
      "Sample log-like: 335.5497354136672\n",
      "Sample log-like: 335.82538927926265\n",
      "Sample log-like: 335.7339111728456\n",
      "Sample log-like: 335.73246818994295\n",
      "Sample log-like: 335.7629758303015\n",
      "Sample log-like: 335.76492600471727\n",
      "Sample log-like: 335.78475831345395\n",
      "Sample log-like: 335.5627934465678\n",
      "Sample log-like: 335.78225275310274\n",
      "Sample log-like: 335.7496172808363\n",
      "Sample log-like: 335.8411304531225\n",
      "Sample log-like: 335.7125356716515\n",
      "Sample log-like: 335.72799567928166\n",
      "Sample log-like: 335.70418886898074\n",
      "Sample log-like: 335.7604898287087\n",
      "Sample log-like: 335.69160718623635\n",
      "Sample log-like: 335.71387064279764\n",
      "Sample log-like: 335.7418482515999\n",
      "Sample log-like: 335.792967120408\n",
      "Sample log-like: 335.7787104465829\n",
      "Sample log-like: 335.78781811944765\n",
      "Sample log-like: 335.7098079521477\n",
      "Sample log-like: 335.66722632261366\n",
      "Sample log-like: 335.7217225319612\n",
      "Sample log-like: 335.69108724035306\n",
      "Sample log-like: 335.78088983232686\n",
      "Sample log-like: 335.74493476725263\n",
      "Sample log-like: 335.6089703761813\n",
      "Sample log-like: 335.7710472347752\n",
      "Sample log-like: 335.7842519999973\n",
      "Sample log-like: 335.8347749216487\n",
      "Sample log-like: 335.7758635879776\n",
      "Sample log-like: 335.71011953203663\n",
      "Sample log-like: 335.7480853594914\n",
      "Sample log-like: 335.7151433582852\n",
      "Sample log-like: 335.73250510731873\n",
      "Sample log-like: 335.71959940095735\n",
      "Sample log-like: 335.7648206335706\n",
      "Sample log-like: 335.7538078718815\n",
      "Sample log-like: 335.82070812994823\n",
      "Sample log-like: 335.76057113102326\n",
      "Sample log-like: 335.77348953478327\n",
      "Sample log-like: 335.7186596975162\n",
      "Sample log-like: 335.71562039418325\n",
      "Sample log-like: 335.74115926288897\n",
      "Sample log-like: 335.65308302835007\n",
      "Sample log-like: 335.7376498998543\n",
      "Sample log-like: 335.82757812161924\n",
      "Sample log-like: 335.7278171773404\n",
      "Sample log-like: 335.77352337034233\n",
      "Sample log-like: 335.7527918503437\n",
      "Sample log-like: 335.65912375826434\n",
      "Sample log-like: 335.7569053315409\n",
      "Sample log-like: 335.8008856725968\n",
      "Sample log-like: 335.76709325101365\n",
      "Sample log-like: 335.752916598776\n",
      "Sample log-like: 335.6415942961686\n",
      "Sample log-like: 335.72913911622794\n",
      "Sample log-like: 335.7604077826661\n",
      "Sample log-like: 335.7070110387455\n",
      "Sample log-like: 335.67259539067857\n"
     ]
    },
    {
     "name": "stderr",
     "output_type": "stream",
     "text": [
      "c:\\users\\apand\\appdata\\local\\programs\\python\\python36\\lib\\site-packages\\emcee\\ensemble.py:335: RuntimeWarning: invalid value encountered in subtract\n",
      "  lnpdiff = (self.dim - 1.) * np.log(zz) + newlnprob - lnprob0\n",
      "c:\\users\\apand\\appdata\\local\\programs\\python\\python36\\lib\\site-packages\\emcee\\ensemble.py:336: RuntimeWarning: invalid value encountered in greater\n",
      "  accept = (lnpdiff > np.log(self._random.rand(len(lnpdiff))))\n"
     ]
    },
    {
     "name": "stdout",
     "output_type": "stream",
     "text": [
      "Progress: |██████████----------------------------------------| 20.5% Complete\r"
     ]
    },
    {
     "name": "stderr",
     "output_type": "stream",
     "text": [
      "c:\\users\\apand\\appdata\\local\\programs\\python\\python36\\lib\\site-packages\\scipy\\stats\\_continuous_distns.py:77: RuntimeWarning: overflow encountered in square\n",
      "  return np.exp(-x**2/2.0) / _norm_pdf_C\n"
     ]
    },
    {
     "name": "stdout",
     "output_type": "stream",
     "text": [
      "Progress: |███████████████████████████████-------------------| 63.0% Complete\r"
     ]
    }
   ],
   "source": [
    "%matplotlib inline\n",
    "import bioscrape as bs\n",
    "from bioscrape.types import Model\n",
    "from bioscrape.simulator import py_simulate_model\n",
    "from bioscrape.pid_interfaces import *\n",
    "from bioscrape.emcee_interface import *\n",
    "import numpy as np\n",
    "import pylab as plt\n",
    "import pandas as pd\n",
    "\n",
    "pid = initialize_mcmc()\n",
    "# Import bioscrape XML / bioscrape model object M / SBML file\n",
    "# M  = bs.types.read_model_from_sbml(filename)\n",
    "pid.M = Model('models/toy_model.xml')\n",
    "\n",
    "\n",
    "# Import data from CSV\n",
    "data_list = []\n",
    "data = pd.read_csv('test_data.csv', delimiter = '\\t', names = ['X', 'time'], skiprows = 1)\n",
    "data_list.append(list(data.get('X')))\n",
    "pid.exp_data = np.array(data_list)\n",
    "\n",
    "\n",
    "pid.prior = {'k1' : ['uniform', 1e-2, 1e3],'d1' : ['gaussian', 0.2, 1000, 1e-4]}\n",
    "pid.params_to_estimate = {'k1':10, 'd1':0.2}\n",
    "pid.timepoints = np.linspace(0, 100, 50)\n",
    "\n",
    "pid.type = 'deterministic'\n",
    "\n",
    "\n",
    "fitted_model, params = pid.run_mcmc(plot_show = True)"
   ]
  },
  {
   "cell_type": "markdown",
   "metadata": {},
   "source": [
    "### Plot the results "
   ]
  },
  {
   "cell_type": "code",
   "execution_count": 2,
   "metadata": {},
   "outputs": [
    {
     "data": {
      "text/plain": [
       "<matplotlib.legend.Legend at 0x1c479ba9f60>"
      ]
     },
     "execution_count": 2,
     "metadata": {},
     "output_type": "execute_result"
    },
    {
     "data": {
      "image/png": "[encoded data removed]",
      "text/plain": [
       "<Figure size 432x288 with 1 Axes>"
      ]
     },
     "metadata": {},
     "output_type": "display_data"
    }
   ],
   "source": [
    "timepoints = pid.timepoints\n",
    "M_original = Model('models/toy_model.xml')\n",
    "sim_x = py_simulate_model(timepoints, Model = M_original, stochastic = False)\n",
    "sim_x_inf = py_simulate_model(timepoints, Model = fitted_model, stochastic = False)\n",
    "plt.plot(timepoints, sim_x['X'], 'r--', label = 'Original model')\n",
    "plt.plot(timepoints, data.get('X'), label = 'Experimental data')\n",
    "plt.plot(timepoints, sim_x_inf['X'], 'k', label = 'Identified model')\n",
    "\n",
    "plt.legend()"
   ]
  },
  {
   "cell_type": "markdown",
   "metadata": {},
   "source": [
    "## Alll methods above have other advanced options that you can use. Refer to Parameter Identification Tools notebook for more details. There are many other tools available such as for multiple initial conditions and timepoints for each trajectory, options for the estimator etc."
   ]
  }
 ],
 "metadata": {
  "kernelspec": {
   "display_name": "Python 3",
   "language": "python",
   "name": "python3"
  },
  "language_info": {
   "codemirror_mode": {
    "name": "ipython",
    "version": 3
   },
   "file_extension": ".py",
   "mimetype": "text/x-python",
   "name": "python",
   "nbconvert_exporter": "python",
   "pygments_lexer": "ipython3",
   "version": "3.6.5"
  }
 },
 "nbformat": 4,
 "nbformat_minor": 2
}
