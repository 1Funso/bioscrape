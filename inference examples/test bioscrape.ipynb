{
 "cells": [
  {
   "cell_type": "code",
   "execution_count": 5,
   "metadata": {},
   "outputs": [
    {
     "data": {
      "text/plain": [
       "[<matplotlib.lines.Line2D at 0x22647d9d508>]"
      ]
     },
     "execution_count": 5,
     "metadata": {},
     "output_type": "execute_result"
    },
    {
     "data": {
      "image/png": "[encoded data removed]",
      "text/plain": [
       "<Figure size 432x288 with 1 Axes>"
      ]
     },
     "metadata": {
      "needs_background": "light"
     },
     "output_type": "display_data"
    }
   ],
   "source": [
    "from bioscrape.simulator import py_simulate_model\n",
    "from bioscrape.types import Model\n",
    "\n",
    "species = ['X']\n",
    "reactions = [(['X'], [], 'massaction', {'k':'d1'}), ([], ['X'], 'massaction', {'k':'k1'})]\n",
    "k1 = -100.0\n",
    "d1 = -2\n",
    "params = [('k1', k1), ('d1', d1)]\n",
    "initial_condition = {'X':0}\n",
    "M = Model(species = species, reactions = reactions, parameters = params, \n",
    "          initial_condition_dict = initial_condition)\n",
    "import numpy as np\n",
    "timepoints = np.linspace(0,100,100)\n",
    "result = py_simulate_model(timepoints, Model = M)['X']\n",
    "import pylab as plt\n",
    "plt.plot(timepoints, result)"
   ]
  },
  {
   "cell_type": "code",
   "execution_count": null,
   "metadata": {},
   "outputs": [],
   "source": []
  }
 ],
 "metadata": {
  "kernelspec": {
   "display_name": "Python 3",
   "language": "python",
   "name": "python3"
  },
  "language_info": {
   "codemirror_mode": {
    "name": "ipython",
    "version": 3
   },
   "file_extension": ".py",
   "mimetype": "text/x-python",
   "name": "python",
   "nbconvert_exporter": "python",
   "pygments_lexer": "ipython3",
   "version": "3.7.4"
  }
 },
 "nbformat": 4,
 "nbformat_minor": 2
}
