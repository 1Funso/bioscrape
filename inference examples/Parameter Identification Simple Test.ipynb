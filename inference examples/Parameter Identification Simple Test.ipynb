{
 "cells": [
  {
   "cell_type": "markdown",
   "metadata": {},
   "source": [
    "# Parameter identification example\n",
    "\n",
    "Here is a simple toy model that we use to demonstrate the working of the inference package\n",
    "\n",
    "$\\emptyset \\xrightarrow[]{k_1} X \\; \\; \\; \\; X \\xrightarrow[]{d_1} \\emptyset$\n",
    "\n",
    "### Run the MCMC algorithm to identify parameters from the experimental data "
   ]
  },
  {
   "cell_type": "code",
   "execution_count": null,
   "metadata": {},
   "outputs": [
    {
     "name": "stderr",
     "output_type": "stream",
     "text": [
      " 58%|█████████████████████████████████████████████▍                                | 1746/3000 [01:10<00:49, 25.27it/s]"
     ]
    }
   ],
   "source": [
    "%matplotlib inline\n",
    "import bioscrape as bs\n",
    "from bioscrape.types import Model\n",
    "from bioscrape.simulator import py_simulate_model\n",
    "from bioscrape.pid_interfaces import *\n",
    "from bioscrape.emcee_interface import *\n",
    "import numpy as np\n",
    "import pylab as plt\n",
    "import pandas as pd\n",
    "\n",
    "pid = initialize_mcmc()\n",
    "# Import bioscrape XML / bioscrape model object M / SBML file\n",
    "# M  = bs.types.read_model_from_sbml(filename)\n",
    "pid.M = Model('toy_model.xml')\n",
    "\n",
    "\n",
    "# Import data from CSV\n",
    "# Import a CSV file for each experiment run\n",
    "pid.exp_data = pd.read_csv('test_data.csv', delimiter = '\\t', names = ['X','time'], skiprows = 1)\n",
    "# data_list.append(list(data.get('X')))\n",
    "# pid.exp_data = np.array(data_list)\n",
    "pid.measurements = ['X']\n",
    "pid.time_column = ['time']\n",
    "# pid.prior = {'k1' : ['gaussian', 10, 100, 1e-7],'d1' : ['gaussian', 0.2, 1, 1e-5]}\n",
    "pid.prior = {'k1' : ['uniform', 0, 100],'d1' : ['uniform', 0, 50]}\n",
    "pid.params_to_estimate = ['k1', 'd1']\n",
    "pid.nwalkers = 200\n",
    "pid.init_seed = 0.15\n",
    "pid.nsteps = 3000\n",
    "pid.type = 'deterministic'\n",
    "\n",
    "\n",
    "sampler = pid.run_mcmc(plot_show = True)\n",
    "pid.plot_mcmc_results(sampler);"
   ]
  },
  {
   "cell_type": "code",
   "execution_count": 2,
   "metadata": {},
   "outputs": [
    {
     "data": {
      "text/plain": [
       "(50,)"
      ]
     },
     "execution_count": 2,
     "metadata": {},
     "output_type": "execute_result"
    }
   ],
   "source": [
    "np.shape(pid.exp_data['X'])"
   ]
  },
  {
   "cell_type": "markdown",
   "metadata": {},
   "source": [
    "### Check mcmc_results.csv for the results of the MCMC procedure and perform your own analysis.\n",
    "\n",
    "### You can also plot the results as follows"
   ]
  },
  {
   "cell_type": "code",
   "execution_count": 3,
   "metadata": {},
   "outputs": [
    {
     "ename": "FileNotFoundError",
     "evalue": "[Errno 2] No such file or directory: 'models/toy_model.xml'",
     "output_type": "error",
     "traceback": [
      "\u001b[1;31m---------------------------------------------------------------------------\u001b[0m",
      "\u001b[1;31mFileNotFoundError\u001b[0m                         Traceback (most recent call last)",
      "\u001b[1;32m<ipython-input-3-06440eeea5a4>\u001b[0m in \u001b[0;36m<module>\u001b[1;34m\u001b[0m\n\u001b[0;32m      1\u001b[0m \u001b[0mtimepoints\u001b[0m \u001b[1;33m=\u001b[0m \u001b[0mpid\u001b[0m\u001b[1;33m.\u001b[0m\u001b[0mtimepoints\u001b[0m\u001b[1;33m\u001b[0m\u001b[1;33m\u001b[0m\u001b[0m\n\u001b[1;32m----> 2\u001b[1;33m \u001b[0mM_original\u001b[0m \u001b[1;33m=\u001b[0m \u001b[0mModel\u001b[0m\u001b[1;33m(\u001b[0m\u001b[1;34m'models/toy_model.xml'\u001b[0m\u001b[1;33m)\u001b[0m\u001b[1;33m\u001b[0m\u001b[1;33m\u001b[0m\u001b[0m\n\u001b[0m\u001b[0;32m      3\u001b[0m \u001b[0msim_x\u001b[0m \u001b[1;33m=\u001b[0m \u001b[0mpy_simulate_model\u001b[0m\u001b[1;33m(\u001b[0m\u001b[0mtimepoints\u001b[0m\u001b[1;33m,\u001b[0m \u001b[0mModel\u001b[0m \u001b[1;33m=\u001b[0m \u001b[0mM_original\u001b[0m\u001b[1;33m,\u001b[0m \u001b[0mstochastic\u001b[0m \u001b[1;33m=\u001b[0m \u001b[1;32mFalse\u001b[0m\u001b[1;33m)\u001b[0m\u001b[1;33m\u001b[0m\u001b[1;33m\u001b[0m\u001b[0m\n\u001b[0;32m      4\u001b[0m \u001b[0msim_x_inf\u001b[0m \u001b[1;33m=\u001b[0m \u001b[0mpy_simulate_model\u001b[0m\u001b[1;33m(\u001b[0m\u001b[0mtimepoints\u001b[0m\u001b[1;33m,\u001b[0m \u001b[0mModel\u001b[0m \u001b[1;33m=\u001b[0m \u001b[0mfitted_model\u001b[0m\u001b[1;33m,\u001b[0m \u001b[0mstochastic\u001b[0m \u001b[1;33m=\u001b[0m \u001b[1;32mFalse\u001b[0m\u001b[1;33m)\u001b[0m\u001b[1;33m\u001b[0m\u001b[1;33m\u001b[0m\u001b[0m\n\u001b[0;32m      5\u001b[0m \u001b[0mplt\u001b[0m\u001b[1;33m.\u001b[0m\u001b[0mplot\u001b[0m\u001b[1;33m(\u001b[0m\u001b[0mtimepoints\u001b[0m\u001b[1;33m,\u001b[0m \u001b[0msim_x\u001b[0m\u001b[1;33m[\u001b[0m\u001b[1;34m'X'\u001b[0m\u001b[1;33m]\u001b[0m\u001b[1;33m,\u001b[0m \u001b[1;34m'r--'\u001b[0m\u001b[1;33m,\u001b[0m \u001b[0mlabel\u001b[0m \u001b[1;33m=\u001b[0m \u001b[1;34m'Original model'\u001b[0m\u001b[1;33m)\u001b[0m\u001b[1;33m\u001b[0m\u001b[1;33m\u001b[0m\u001b[0m\n",
      "\u001b[1;32mbioscrape\\types.pyx\u001b[0m in \u001b[0;36mbioscrape.types.Model.__init__\u001b[1;34m()\u001b[0m\n",
      "\u001b[1;32mbioscrape\\types.pyx\u001b[0m in \u001b[0;36mbioscrape.types.Model.parse_model\u001b[1;34m()\u001b[0m\n",
      "\u001b[1;31mFileNotFoundError\u001b[0m: [Errno 2] No such file or directory: 'models/toy_model.xml'"
     ]
    }
   ],
   "source": [
    "timepoints = pid.timepoints\n",
    "M_original = Model('models/toy_model.xml')\n",
    "sim_x = py_simulate_model(timepoints, Model = M_original, stochastic = False)\n",
    "sim_x_inf = py_simulate_model(timepoints, Model = fitted_model, stochastic = False)\n",
    "plt.plot(timepoints, sim_x['X'], 'r--', label = 'Original model')\n",
    "plt.plot(timepoints, pid.exp_data.get('X'), label = 'Experimental data')\n",
    "plt.plot(timepoints, sim_x_inf['X'], 'k', label = 'Identified model')\n",
    "\n",
    "plt.legend()"
   ]
  },
  {
   "cell_type": "markdown",
   "metadata": {},
   "source": [
    "## Alll methods above have other advanced options that you can use. Refer to Parameter Identification Tools and Advanced Examples notebook for more details. There are many other tools available such as for multiple initial conditions and timepoints for each trajectory, options for the estimator etc."
   ]
  },
  {
   "cell_type": "code",
   "execution_count": null,
   "metadata": {},
   "outputs": [],
   "source": [
    "fitted_model.get_parameter_values()"
   ]
  },
  {
   "cell_type": "code",
   "execution_count": null,
   "metadata": {},
   "outputs": [],
   "source": []
  }
 ],
 "metadata": {
  "kernelspec": {
   "display_name": "Python 3",
   "language": "python",
   "name": "python3"
  },
  "language_info": {
   "codemirror_mode": {
    "name": "ipython",
    "version": 3
   },
   "file_extension": ".py",
   "mimetype": "text/x-python",
   "name": "python",
   "nbconvert_exporter": "python",
   "pygments_lexer": "ipython3",
   "version": "3.7.7"
  }
 },
 "nbformat": 4,
 "nbformat_minor": 2
}
